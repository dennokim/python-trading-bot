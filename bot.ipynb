{
 "cells": [
  {
   "cell_type": "markdown",
   "metadata": {},
   "source": [
    "install yfinance\n"
   ]
  },
  {
   "cell_type": "code",
   "execution_count": 18,
   "metadata": {},
   "outputs": [],
   "source": [
    "%pip install yfinance\n",
    "%pip install apscheduler\n",
    "%pip install pandas\n",
    "%pip install oandapyV20\n",
    "%pip install oanda_candles"
   ]
  },
  {
   "cell_type": "markdown",
   "metadata": {},
   "source": [
    "import the modules\n"
   ]
  },
  {
   "cell_type": "code",
   "execution_count": 6,
   "metadata": {},
   "outputs": [
    {
     "name": "stderr",
     "output_type": "stream",
     "text": [
      "[*********************100%%**********************]  1 of 1 completed\n"
     ]
    },
    {
     "data": {
      "text/html": [
       "<div>\n",
       "<style scoped>\n",
       "    .dataframe tbody tr th:only-of-type {\n",
       "        vertical-align: middle;\n",
       "    }\n",
       "\n",
       "    .dataframe tbody tr th {\n",
       "        vertical-align: top;\n",
       "    }\n",
       "\n",
       "    .dataframe thead th {\n",
       "        text-align: right;\n",
       "    }\n",
       "</style>\n",
       "<table border=\"1\" class=\"dataframe\">\n",
       "  <thead>\n",
       "    <tr style=\"text-align: right;\">\n",
       "      <th></th>\n",
       "      <th>Open</th>\n",
       "      <th>High</th>\n",
       "      <th>Low</th>\n",
       "      <th>Close</th>\n",
       "      <th>Adj Close</th>\n",
       "      <th>Volume</th>\n",
       "    </tr>\n",
       "    <tr>\n",
       "      <th>Datetime</th>\n",
       "      <th></th>\n",
       "      <th></th>\n",
       "      <th></th>\n",
       "      <th></th>\n",
       "      <th></th>\n",
       "      <th></th>\n",
       "    </tr>\n",
       "  </thead>\n",
       "  <tbody>\n",
       "    <tr>\n",
       "      <th>2024-01-01 18:00:00+00:00</th>\n",
       "      <td>1.105583</td>\n",
       "      <td>1.105583</td>\n",
       "      <td>1.105583</td>\n",
       "      <td>1.105583</td>\n",
       "      <td>1.105583</td>\n",
       "      <td>0</td>\n",
       "    </tr>\n",
       "    <tr>\n",
       "      <th>2024-01-01 19:00:00+00:00</th>\n",
       "      <td>1.105583</td>\n",
       "      <td>1.105583</td>\n",
       "      <td>1.105339</td>\n",
       "      <td>1.105339</td>\n",
       "      <td>1.105339</td>\n",
       "      <td>0</td>\n",
       "    </tr>\n",
       "    <tr>\n",
       "      <th>2024-01-01 20:00:00+00:00</th>\n",
       "      <td>1.105339</td>\n",
       "      <td>1.105339</td>\n",
       "      <td>1.103875</td>\n",
       "      <td>1.104240</td>\n",
       "      <td>1.104240</td>\n",
       "      <td>0</td>\n",
       "    </tr>\n",
       "    <tr>\n",
       "      <th>2024-01-01 21:00:00+00:00</th>\n",
       "      <td>1.104240</td>\n",
       "      <td>1.105217</td>\n",
       "      <td>1.104240</td>\n",
       "      <td>1.105217</td>\n",
       "      <td>1.105217</td>\n",
       "      <td>0</td>\n",
       "    </tr>\n",
       "    <tr>\n",
       "      <th>2024-01-01 22:00:00+00:00</th>\n",
       "      <td>1.104850</td>\n",
       "      <td>1.105094</td>\n",
       "      <td>1.104606</td>\n",
       "      <td>1.104728</td>\n",
       "      <td>1.104728</td>\n",
       "      <td>0</td>\n",
       "    </tr>\n",
       "    <tr>\n",
       "      <th>...</th>\n",
       "      <td>...</td>\n",
       "      <td>...</td>\n",
       "      <td>...</td>\n",
       "      <td>...</td>\n",
       "      <td>...</td>\n",
       "      <td>...</td>\n",
       "    </tr>\n",
       "    <tr>\n",
       "      <th>2024-03-01 18:00:00+00:00</th>\n",
       "      <td>1.084011</td>\n",
       "      <td>1.084481</td>\n",
       "      <td>1.083424</td>\n",
       "      <td>1.084363</td>\n",
       "      <td>1.084363</td>\n",
       "      <td>0</td>\n",
       "    </tr>\n",
       "    <tr>\n",
       "      <th>2024-03-01 19:00:00+00:00</th>\n",
       "      <td>1.084246</td>\n",
       "      <td>1.084599</td>\n",
       "      <td>1.084128</td>\n",
       "      <td>1.084481</td>\n",
       "      <td>1.084481</td>\n",
       "      <td>0</td>\n",
       "    </tr>\n",
       "    <tr>\n",
       "      <th>2024-03-01 20:00:00+00:00</th>\n",
       "      <td>1.084363</td>\n",
       "      <td>1.084363</td>\n",
       "      <td>1.083776</td>\n",
       "      <td>1.084128</td>\n",
       "      <td>1.084128</td>\n",
       "      <td>0</td>\n",
       "    </tr>\n",
       "    <tr>\n",
       "      <th>2024-03-01 21:00:00+00:00</th>\n",
       "      <td>1.084011</td>\n",
       "      <td>1.084246</td>\n",
       "      <td>1.083658</td>\n",
       "      <td>1.084246</td>\n",
       "      <td>1.084246</td>\n",
       "      <td>0</td>\n",
       "    </tr>\n",
       "    <tr>\n",
       "      <th>2024-03-01 22:00:00+00:00</th>\n",
       "      <td>1.084128</td>\n",
       "      <td>1.084128</td>\n",
       "      <td>1.083893</td>\n",
       "      <td>1.083893</td>\n",
       "      <td>1.083893</td>\n",
       "      <td>0</td>\n",
       "    </tr>\n",
       "  </tbody>\n",
       "</table>\n",
       "<p>1053 rows × 6 columns</p>\n",
       "</div>"
      ],
      "text/plain": [
       "                               Open      High       Low     Close  Adj Close  \\\n",
       "Datetime                                                                       \n",
       "2024-01-01 18:00:00+00:00  1.105583  1.105583  1.105583  1.105583   1.105583   \n",
       "2024-01-01 19:00:00+00:00  1.105583  1.105583  1.105339  1.105339   1.105339   \n",
       "2024-01-01 20:00:00+00:00  1.105339  1.105339  1.103875  1.104240   1.104240   \n",
       "2024-01-01 21:00:00+00:00  1.104240  1.105217  1.104240  1.105217   1.105217   \n",
       "2024-01-01 22:00:00+00:00  1.104850  1.105094  1.104606  1.104728   1.104728   \n",
       "...                             ...       ...       ...       ...        ...   \n",
       "2024-03-01 18:00:00+00:00  1.084011  1.084481  1.083424  1.084363   1.084363   \n",
       "2024-03-01 19:00:00+00:00  1.084246  1.084599  1.084128  1.084481   1.084481   \n",
       "2024-03-01 20:00:00+00:00  1.084363  1.084363  1.083776  1.084128   1.084128   \n",
       "2024-03-01 21:00:00+00:00  1.084011  1.084246  1.083658  1.084246   1.084246   \n",
       "2024-03-01 22:00:00+00:00  1.084128  1.084128  1.083893  1.083893   1.083893   \n",
       "\n",
       "                           Volume  \n",
       "Datetime                           \n",
       "2024-01-01 18:00:00+00:00       0  \n",
       "2024-01-01 19:00:00+00:00       0  \n",
       "2024-01-01 20:00:00+00:00       0  \n",
       "2024-01-01 21:00:00+00:00       0  \n",
       "2024-01-01 22:00:00+00:00       0  \n",
       "...                           ...  \n",
       "2024-03-01 18:00:00+00:00       0  \n",
       "2024-03-01 19:00:00+00:00       0  \n",
       "2024-03-01 20:00:00+00:00       0  \n",
       "2024-03-01 21:00:00+00:00       0  \n",
       "2024-03-01 22:00:00+00:00       0  \n",
       "\n",
       "[1053 rows x 6 columns]"
      ]
     },
     "execution_count": 6,
     "metadata": {},
     "output_type": "execute_result"
    }
   ],
   "source": [
    "import yfinance as yf\n",
    "import pandas as pd\n",
    "\n",
    "# Adjust the start and end dates\n",
    "start_date = \"2024-01-01\"  # Example: Within the last 60 days\n",
    "end_date = \"2024-03-04\"    # Example: Today's date\n",
    "\n",
    "# Download data\n",
    "dataF = yf.download(\"EURUSD=X\", start=start_date, end=end_date, interval='1h')\n",
    "\n",
    "# Print the data\n",
    "#print(dataF)\n",
    "\n",
    "dataF.iloc[:,:]\n",
    "#dataF.Open.iloc"
   ]
  },
  {
   "cell_type": "markdown",
   "metadata": {},
   "source": [
    "2. Defining your signal functions"
   ]
  },
  {
   "cell_type": "code",
   "execution_count": 11,
   "metadata": {},
   "outputs": [],
   "source": [
    "def signal_generator(df):\n",
    "    #we will select the last (element) row of the dataframe--like we get the \n",
    "    #last (element) of a Open, Close from the database we made above and pass them to open, close.\n",
    "    open = df.Open.iloc[-1]\n",
    "    close = df.Close.iloc[-1]\n",
    "    #do the same here but we get the previous two last (element) row of the dataframe.\n",
    "    previous_open = df.Open.iloc[-2]\n",
    "    previous_close = df.Close.iloc[-2]\n",
    "\n",
    "    #Bearish pattern....selling signal\n",
    "    if (open>close and\n",
    "    previous_open<previous_close and\n",
    "    close<previous_open and\n",
    "    open>=previous_close) :\n",
    "        return 1\n",
    "    \n",
    "    #Bullish pattern...buying sgnal\n",
    "    if(open<close and\n",
    "    previous_open>previous_close and\n",
    "    close>previous_open and\n",
    "    open<=previous_close):\n",
    "        return 2\n",
    "\n",
    "    #No clear pattern\n",
    "    else:\n",
    "        return 0\n",
    "\n",
    "#create a list of signals based on the two patterns from the signal_generator function\n",
    "#for each pair of consecutive rows in the Dataframe.\n",
    "#create an empty list and append 0 to it as the function above requires two rows of data\n",
    "#to compare and generate a signal. so we want the first row not to have a signal and to begin in the second row.\n",
    "signal = []\n",
    "signal.append(0)\n",
    "#loop over the dataframe dataF from the second row to the last row\n",
    "for i in range(1, len(dataF)):\n",
    "    df = dataF[i-1:i+1]#this line creates a new dataframe that contains the current row and the previous row from dataF(last two rows of the dataframe)\n",
    "    signal.append(signal_generator(df))#this line appends the signal generated from the signal_generator function to the signal list\n",
    "#signal_generator(data)\n",
    "dataF[\"signal\"] = signal"
   ]
  },
  {
   "cell_type": "code",
   "execution_count": 13,
   "metadata": {},
   "outputs": [
    {
     "data": {
      "text/plain": [
       "signal\n",
       "0    950\n",
       "2     59\n",
       "1     44\n",
       "Name: count, dtype: int64"
      ]
     },
     "execution_count": 13,
     "metadata": {},
     "output_type": "execute_result"
    }
   ],
   "source": [
    "dataF.signal.value_counts()\n",
    "#dataF.iloc[:, :]"
   ]
  },
  {
   "cell_type": "markdown",
   "metadata": {},
   "source": [
    "3. Connect to the market and execute the trades."
   ]
  },
  {
   "cell_type": "code",
   "execution_count": 17,
   "metadata": {},
   "outputs": [
    {
     "ename": "ModuleNotFoundError",
     "evalue": "No module named 'oanda_candles'",
     "output_type": "error",
     "traceback": [
      "\u001b[1;31m---------------------------------------------------------------------------\u001b[0m",
      "\u001b[1;31mModuleNotFoundError\u001b[0m                       Traceback (most recent call last)",
      "Cell \u001b[1;32mIn[17], line 5\u001b[0m\n\u001b[0;32m      3\u001b[0m \u001b[38;5;28;01mimport\u001b[39;00m \u001b[38;5;21;01moandapyV20\u001b[39;00m\u001b[38;5;21;01m.\u001b[39;00m\u001b[38;5;21;01mendpoints\u001b[39;00m\u001b[38;5;21;01m.\u001b[39;00m\u001b[38;5;21;01morders\u001b[39;00m \u001b[38;5;28;01mas\u001b[39;00m \u001b[38;5;21;01morders\u001b[39;00m\n\u001b[0;32m      4\u001b[0m \u001b[38;5;28;01mfrom\u001b[39;00m \u001b[38;5;21;01moandapyV20\u001b[39;00m\u001b[38;5;21;01m.\u001b[39;00m\u001b[38;5;21;01mcontrib\u001b[39;00m\u001b[38;5;21;01m.\u001b[39;00m\u001b[38;5;21;01mrequests\u001b[39;00m \u001b[38;5;28;01mimport\u001b[39;00m MarketOrderRequest\n\u001b[1;32m----> 5\u001b[0m \u001b[38;5;28;01mfrom\u001b[39;00m \u001b[38;5;21;01moanda_candles\u001b[39;00m \u001b[38;5;28;01mimport\u001b[39;00m Pair, Gran, CandleClient\n\u001b[0;32m      6\u001b[0m \u001b[38;5;28;01mfrom\u001b[39;00m \u001b[38;5;21;01moandapyV20\u001b[39;00m\u001b[38;5;21;01m.\u001b[39;00m\u001b[38;5;21;01mcontrib\u001b[39;00m\u001b[38;5;21;01m.\u001b[39;00m\u001b[38;5;21;01mrequests\u001b[39;00m \u001b[38;5;28;01mimport\u001b[39;00m TakeProfitDetails, StopLossDetails\n",
      "\u001b[1;31mModuleNotFoundError\u001b[0m: No module named 'oanda_candles'"
     ]
    }
   ],
   "source": [
    "from apscheduler.schedulers.blocking import BlockingScheduler\n",
    "from oandapyV20 import API\n",
    "import oandapyV20.endpoints.orders as orders\n",
    "from oandapyV20.contrib.requests import MarketOrderRequest\n",
    "from oanda_candles import Pair, Gran, CandleClient\n",
    "from oandapyV20.contrib.requests import TakeProfitDetails, StopLossDetails"
   ]
  }
 ],
 "metadata": {
  "kernelspec": {
   "display_name": "base",
   "language": "python",
   "name": "python3"
  },
  "language_info": {
   "codemirror_mode": {
    "name": "ipython",
    "version": 3
   },
   "file_extension": ".py",
   "mimetype": "text/x-python",
   "name": "python",
   "nbconvert_exporter": "python",
   "pygments_lexer": "ipython3",
   "version": "3.11.7"
  }
 },
 "nbformat": 4,
 "nbformat_minor": 2
}
